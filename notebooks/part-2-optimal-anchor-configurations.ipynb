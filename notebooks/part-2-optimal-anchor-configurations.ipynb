{
 "cells": [
  {
   "cell_type": "markdown",
   "id": "7c37f1e5",
   "metadata": {},
   "source": [
    "# Part 2: Finding Optimal Anchor Configurations\n",
    "\n",
    "\n",
    "If you know about the RetinaNet architecture, you probably will be able to deduce that the anchor box generator is not generating anchor boxes with a high enough IoU with the spectogram targets to have the boxes land in the training target.\n",
    "This is apparent, as in part 1 you can see that the oblong boxes slip through the cracks.  In order to remedy this problem, lets find an optimal anchor box configuration.\n",
    "\n",
    "Unfortunately, spectograms have little in common with typical images.  The size and aspect ratios of signals in a spectogram has nothing to do with the distribution of objects in the real world.  As such, we have to put a great deal of effort into finding optimal anchor configurations.\n",
    "\n",
    "Lets explore our dataset to better understand the issue:"
   ]
  },
  {
   "cell_type": "markdown",
   "id": "5424e386",
   "metadata": {},
   "source": [
    "TODO overview of anchor boxes."
   ]
  },
  {
   "cell_type": "markdown",
   "id": "70606afb",
   "metadata": {},
   "source": [
    "# Data Understanding"
   ]
  },
  {
   "cell_type": "code",
   "execution_count": 47,
   "id": "20264f36",
   "metadata": {},
   "outputs": [],
   "source": [
    "import em_loader\n",
    "import numpy as np\n",
    "import tensorflow as tf\n",
    "from tqdm import tqdm\n",
    "import matplotlib.pyplot as plt\n",
    "from sklearn.cluster import KMeans"
   ]
  },
  {
   "cell_type": "code",
   "execution_count": 48,
   "id": "41e6cf2e",
   "metadata": {},
   "outputs": [],
   "source": [
    "dataset, dataset_info = em_loader.load(\n",
    "    split=\"train\",\n",
    "    bounding_box_format=\"xywh\",\n",
    "    batch_size=9,\n",
    "    version=2,\n",
    ")"
   ]
  },
  {
   "cell_type": "markdown",
   "id": "ffbab673",
   "metadata": {},
   "source": [
    "## Aspect Ratio Analysis\n",
    "\n",
    "Lets start by analyzing the aspect ratios in the dataset."
   ]
  },
  {
   "cell_type": "code",
   "execution_count": 49,
   "id": "29e87026",
   "metadata": {},
   "outputs": [
    {
     "name": "stderr",
     "output_type": "stream",
     "text": [
      "429it [00:20, 20.88it/s]\n"
     ]
    }
   ],
   "source": [
    "result = []\n",
    "\n",
    "for batch in tqdm(iter(dataset)):\n",
    "    boxes = batch['bounding_boxes']\n",
    "    aspect_ratios = boxes[:, :, 2] / boxes [:, :, 3]\n",
    "    aspect_ratios = aspect_ratios.to_tensor(-1.0)\n",
    "    aspect_ratios = tf.reshape(aspect_ratios, (-1))\n",
    "    aspect_ratios = tf.gather(aspect_ratios, tf.where(aspect_ratios != -1.0))\n",
    "    result.append(aspect_ratios.numpy())\n",
    "result = np.concatenate(result)\n",
    "aspect_ratios = result"
   ]
  },
  {
   "cell_type": "code",
   "execution_count": 50,
   "id": "efba8a5e",
   "metadata": {},
   "outputs": [
    {
     "data": {
      "image/png": "[encoded data removed]",
      "text/plain": [
       "<Figure size 432x288 with 1 Axes>"
      ]
     },
     "metadata": {
      "needs_background": "light"
     },
     "output_type": "display_data"
    }
   ],
   "source": [
    "import seaborn as sns\n",
    "import matplotlib.pyplot as plt\n",
    "sns.histplot(aspect_ratios, bins=20)\n",
    "plt.savefig('artifacts/k-means/aspect-ratios.png')"
   ]
  },
  {
   "cell_type": "markdown",
   "id": "63dfb636",
   "metadata": {},
   "source": [
    "## Area"
   ]
  },
  {
   "cell_type": "code",
   "execution_count": 51,
   "id": "c2c24f6d",
   "metadata": {},
   "outputs": [
    {
     "name": "stderr",
     "output_type": "stream",
     "text": [
      "429it [00:20, 21.21it/s]\n"
     ]
    }
   ],
   "source": [
    "import numpy as np\n",
    "from tqdm import tqdm\n",
    "result = []\n",
    "for batch in tqdm(iter(dataset)):\n",
    "    boxes = batch['bounding_boxes']\n",
    "    area = boxes[:, :, 2] * boxes [:, :, 3]\n",
    "    area = area.to_tensor(-1.0)\n",
    "    area = tf.reshape(area, (-1))\n",
    "    side_lengths = tf.math.sqrt(tf.gather(area, tf.where(area != -1.0)))\n",
    "    result.append(side_lengths.numpy())\n",
    "side_lengths = np.concatenate(result)"
   ]
  },
  {
   "cell_type": "code",
   "execution_count": 52,
   "id": "2476dc54",
   "metadata": {},
   "outputs": [
    {
     "data": {
      "image/png": "[encoded data removed]",
      "text/plain": [
       "<Figure size 432x288 with 1 Axes>"
      ]
     },
     "metadata": {
      "needs_background": "light"
     },
     "output_type": "display_data"
    }
   ],
   "source": [
    "import seaborn as sns\n",
    "sns.histplot(side_lengths, bins=20)\n",
    "plt.savefig('artifacts/k-means/side-lengths.png')"
   ]
  },
  {
   "cell_type": "markdown",
   "id": "b18deb3d",
   "metadata": {},
   "source": [
    "## K Means"
   ]
  },
  {
   "cell_type": "markdown",
   "id": "4e22223b",
   "metadata": {},
   "source": [
    "# PascalVOC"
   ]
  },
  {
   "cell_type": "code",
   "execution_count": 53,
   "id": "4a3b8137",
   "metadata": {},
   "outputs": [],
   "source": [
    "import keras_cv\n",
    "dataset, dataset_info = keras_cv.datasets.pascal_voc.load(\n",
    "    split=\"train\",\n",
    "    bounding_box_format=\"xywh\",\n",
    "    batch_size=9,\n",
    ")"
   ]
  },
  {
   "cell_type": "code",
   "execution_count": 54,
   "id": "557d9863",
   "metadata": {},
   "outputs": [
    {
     "name": "stderr",
     "output_type": "stream",
     "text": [
      "278it [00:04, 68.17it/s]\n"
     ]
    }
   ],
   "source": [
    "import numpy as np\n",
    "import tensorflow as tf\n",
    "from tqdm import tqdm\n",
    "result = []\n",
    "\n",
    "for batch in tqdm(iter(dataset)):\n",
    "    boxes = batch['bounding_boxes']\n",
    "    aspect_ratios = boxes[:, :, 2] / boxes [:, :, 3]\n",
    "    aspect_ratios = aspect_ratios.to_tensor(-1.0)\n",
    "    aspect_ratios = tf.reshape(aspect_ratios, (-1))\n",
    "    aspect_ratios = tf.gather(aspect_ratios, tf.where(aspect_ratios != -1.0))\n",
    "    result.append(aspect_ratios.numpy())\n",
    "result = np.concatenate(result)\n",
    "aspect_ratios = result"
   ]
  },
  {
   "cell_type": "code",
   "execution_count": 35,
   "id": "10b62d14",
   "metadata": {},
   "outputs": [
    {
     "data": {
      "image/png": "[encoded data removed]",
      "text/plain": [
       "<Figure size 432x288 with 1 Axes>"
      ]
     },
     "metadata": {
      "needs_background": "light"
     },
     "output_type": "display_data"
    }
   ],
   "source": [
    "import seaborn as sns\n",
    "import matplotlib.pyplot as plt\n",
    "sns.histplot(aspect_ratios, bins=20)\n",
    "plt.savefig('artifacts/k-means/pascal-voc-aspect-ratios.png')"
   ]
  },
  {
   "cell_type": "code",
   "execution_count": 36,
   "id": "f6a04b8b",
   "metadata": {},
   "outputs": [
    {
     "name": "stderr",
     "output_type": "stream",
     "text": [
      "278it [00:03, 71.02it/s]\n"
     ]
    }
   ],
   "source": [
    "import numpy as np\n",
    "from tqdm import tqdm\n",
    "result = []\n",
    "for batch in tqdm(iter(dataset)):\n",
    "    boxes = batch['bounding_boxes']\n",
    "    area = boxes[:, :, 2] * boxes [:, :, 3]\n",
    "    area = area.to_tensor(-1.0)\n",
    "    area = tf.reshape(area, (-1))\n",
    "    side_lengths = tf.math.sqrt(tf.gather(area, tf.where(area != -1.0)))\n",
    "    result.append(side_lengths.numpy())\n",
    "side_lengths = np.concatenate(result)"
   ]
  },
  {
   "cell_type": "code",
   "execution_count": 37,
   "id": "5c316928",
   "metadata": {},
   "outputs": [
    {
     "data": {
      "image/png": "[encoded data removed]",
      "text/plain": [
       "<Figure size 432x288 with 1 Axes>"
      ]
     },
     "metadata": {
      "needs_background": "light"
     },
     "output_type": "display_data"
    }
   ],
   "source": [
    "import seaborn as sns\n",
    "sns.histplot(side_lengths, bins=20)\n",
    "plt.savefig('artifacts/k-means/pascal-voc-side-lengths.png')"
   ]
  },
  {
   "cell_type": "markdown",
   "id": "95e824a0",
   "metadata": {},
   "source": [
    "# K-Means Clustering\n",
    "\n",
    "Lets implement K-Means clustering to find an optimal set of anchor generators."
   ]
  },
  {
   "cell_type": "markdown",
   "id": "d12afe91",
   "metadata": {},
   "source": [
    "First, we need to get the box widths and heights"
   ]
  },
  {
   "cell_type": "code",
   "execution_count": 55,
   "id": "6b4f42c4",
   "metadata": {},
   "outputs": [],
   "source": [
    "dataset, dataset_info = em_loader.load(\n",
    "    split=\"train\",\n",
    "    bounding_box_format=\"xywh\",\n",
    "    batch_size=9,\n",
    "    version=2,\n",
    ")"
   ]
  },
  {
   "cell_type": "code",
   "execution_count": 56,
   "id": "680ae6e2",
   "metadata": {},
   "outputs": [
    {
     "name": "stderr",
     "output_type": "stream",
     "text": [
      "429it [00:20, 21.32it/s]\n"
     ]
    }
   ],
   "source": [
    "result = []\n",
    "\n",
    "for batch in tqdm(iter(dataset)):\n",
    "    boxes = batch['bounding_boxes']\n",
    "    box_height = boxes[:, :, 3]\n",
    "    box_height = box_height.to_tensor(-1.0)\n",
    "    box_height = tf.reshape(box_height, (-1))\n",
    "    box_height = tf.gather(box_height, tf.where(box_height != -1.0))\n",
    "    result.append(box_height.numpy())\n",
    "result = np.concatenate(result)\n",
    "box_height = result"
   ]
  },
  {
   "cell_type": "code",
   "execution_count": null,
   "id": "cca2281e",
   "metadata": {},
   "outputs": [
    {
     "name": "stderr",
     "output_type": "stream",
     "text": [
      "92it [00:04, 21.11it/s]"
     ]
    }
   ],
   "source": [
    "result = []\n",
    "\n",
    "for batch in tqdm(iter(dataset)):\n",
    "    boxes = batch['bounding_boxes']\n",
    "    box_width = boxes[:, :, 2]\n",
    "    box_width = box_width.to_tensor(-1.0)\n",
    "    box_width = tf.reshape(box_width, (-1))\n",
    "    box_width = tf.gather(box_width, tf.where(box_width != -1.0))\n",
    "    result.append(box_width.numpy())\n",
    "result = np.concatenate(result)\n",
    "box_width = result"
   ]
  },
  {
   "cell_type": "code",
   "execution_count": null,
   "id": "17568376",
   "metadata": {},
   "outputs": [],
   "source": [
    "box_height = box_height.squeeze(axis=-1)\n",
    "box_width = box_width.squeeze(axis=-1)"
   ]
  },
  {
   "cell_type": "markdown",
   "id": "ffd6258a",
   "metadata": {},
   "source": [
    "Next, we need to fit KMeans on the dataset"
   ]
  },
  {
   "cell_type": "code",
   "execution_count": null,
   "id": "433ec345",
   "metadata": {},
   "outputs": [],
   "source": [
    "X = np.array(list(zip(box_width,box_height)))\n",
    "print('Input data:', X.shape)\n",
    "print(X.shape)"
   ]
  },
  {
   "cell_type": "code",
   "execution_count": null,
   "id": "08c085b4",
   "metadata": {},
   "outputs": [],
   "source": [
    "kmeans = KMeans(n_clusters=6,random_state=33).fit(X)"
   ]
  },
  {
   "cell_type": "code",
   "execution_count": null,
   "id": "8c621884",
   "metadata": {},
   "outputs": [],
   "source": [
    "plt.figure()\n",
    "plt.scatter(X[:,0],X[:,1])\n",
    "plt.scatter(kmeans.cluster_centers_[:,0],kmeans.cluster_centers_[:,1])\n",
    "plt.xlabel(\"Box Width\")\n",
    "plt.ylabel(\"Box Height\")\n",
    "plt.title(\"Box Width vs. Box Height\")\n",
    "plt.grid()\n",
    "plt.savefig('artifacts/k-means/scatter-plot')"
   ]
  },
  {
   "cell_type": "markdown",
   "id": "4da3dc8a",
   "metadata": {},
   "source": [
    "Using this scatter plot, we can compute the box mean aspect ratios:"
   ]
  },
  {
   "cell_type": "code",
   "execution_count": null,
   "id": "44b05a4d",
   "metadata": {},
   "outputs": [],
   "source": [
    "aspect_ratios = sorted(kmeans.cluster_centers_[:,1] / kmeans.cluster_centers_[:,0])\n",
    "print(f\"aspect_ratios={aspect_ratios}\")"
   ]
  }
 ],
 "metadata": {
  "kernelspec": {
   "display_name": "Python 3 (ipykernel)",
   "language": "python",
   "name": "python3"
  },
  "language_info": {
   "codemirror_mode": {
    "name": "ipython",
    "version": 3
   },
   "file_extension": ".py",
   "mimetype": "text/x-python",
   "name": "python",
   "nbconvert_exporter": "python",
   "pygments_lexer": "ipython3",
   "version": "3.9.13"
  }
 },
 "nbformat": 4,
 "nbformat_minor": 5
}
