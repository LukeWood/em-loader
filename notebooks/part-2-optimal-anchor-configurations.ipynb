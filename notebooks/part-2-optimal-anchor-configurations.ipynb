{
 "cells": [
  {
   "cell_type": "markdown",
   "id": "7c37f1e5",
   "metadata": {},
   "source": [
    "# Part 2: Finding Optimal Anchor Configurations\n",
    "\n",
    "\n",
    "If you know about the RetinaNet architecture, you probably will be able to deduce that the anchor box generator is not generating anchor boxes with a high enough IoU with the spectogram targets to have the boxes land in the training target.\n",
    "This is apparent, as in part 1 you can see that the oblong boxes slip through the cracks.  In order to remedy this problem, lets find an optimal anchor box configuration.\n",
    "\n",
    "Unfortunately, spectograms have little in common with typical images.  The size and aspect ratios of signals in a spectogram has nothing to do with the distribution of objects in the real world.  As such, we have to put a great deal of effort into finding optimal anchor configurations.\n",
    "\n",
    "Lets explore our dataset to better understand the issue:"
   ]
  },
  {
   "cell_type": "markdown",
   "id": "5424e386",
   "metadata": {},
   "source": [
    "TODO overview of anchor boxes."
   ]
  },
  {
   "cell_type": "markdown",
   "id": "70606afb",
   "metadata": {},
   "source": [
    "# Data Understanding"
   ]
  },
  {
   "cell_type": "code",
   "execution_count": 1,
   "id": "20264f36",
   "metadata": {},
   "outputs": [],
   "source": [
    "import em_loader"
   ]
  },
  {
   "cell_type": "code",
   "execution_count": 2,
   "id": "41e6cf2e",
   "metadata": {},
   "outputs": [],
   "source": [
    "dataset, dataset_info = em_loader.load(\n",
    "    split=\"train\",\n",
    "    bounding_box_format=\"xywh\",\n",
    "    batch_size=9,\n",
    "    version=2,\n",
    ")"
   ]
  },
  {
   "cell_type": "markdown",
   "id": "ffbab673",
   "metadata": {},
   "source": [
    "## Aspect Ratio Analysis\n",
    "\n",
    "Lets start by analyzing the aspect ratios in the dataset."
   ]
  },
  {
   "cell_type": "code",
   "execution_count": 3,
   "id": "29e87026",
   "metadata": {},
   "outputs": [
    {
     "name": "stderr",
     "output_type": "stream",
     "text": [
      "429it [00:20, 20.88it/s]\n"
     ]
    }
   ],
   "source": [
    "import numpy as np\n",
    "import tensorflow as tf\n",
    "from tqdm import tqdm\n",
    "result = []\n",
    "\n",
    "for batch in tqdm(iter(dataset)):\n",
    "    boxes = batch['bounding_boxes']\n",
    "    aspect_ratios = boxes[:, :, 2] / boxes [:, :, 3]\n",
    "    aspect_ratios = aspect_ratios.to_tensor(-1.0)\n",
    "    aspect_ratios = tf.reshape(aspect_ratios, (-1))\n",
    "    aspect_ratios = tf.gather(aspect_ratios, tf.where(aspect_ratios != -1.0))\n",
    "    result.append(aspect_ratios.numpy())\n",
    "result = np.concatenate(result)\n",
    "aspect_ratios = result"
   ]
  },
  {
   "cell_type": "code",
   "execution_count": 4,
   "id": "efba8a5e",
   "metadata": {},
   "outputs": [
    {
     "data": {
      "image/png": "[encoded data removed]",
      "text/plain": [
       "<Figure size 432x288 with 1 Axes>"
      ]
     },
     "metadata": {
      "needs_background": "light"
     },
     "output_type": "display_data"
    }
   ],
   "source": [
    "import seaborn as sns\n",
    "import matplotlib.pyplot as plt\n",
    "sns.histplot(aspect_ratios, bins=20)\n",
    "plt.savefig('artifacts/k-means/aspect-ratios.png')"
   ]
  },
  {
   "cell_type": "markdown",
   "id": "63dfb636",
   "metadata": {},
   "source": [
    "## Area"
   ]
  },
  {
   "cell_type": "code",
   "execution_count": 5,
   "id": "c2c24f6d",
   "metadata": {},
   "outputs": [
    {
     "name": "stderr",
     "output_type": "stream",
     "text": [
      "429it [00:20, 21.31it/s]\n"
     ]
    }
   ],
   "source": [
    "import numpy as np\n",
    "from tqdm import tqdm\n",
    "result = []\n",
    "for batch in tqdm(iter(dataset)):\n",
    "    boxes = batch['bounding_boxes']\n",
    "    area = boxes[:, :, 2] * boxes [:, :, 3]\n",
    "    area = area.to_tensor(-1.0)\n",
    "    area = tf.reshape(area, (-1))\n",
    "    side_lengths = tf.math.sqrt(tf.gather(area, tf.where(area != -1.0)))\n",
    "    result.append(side_lengths.numpy())\n",
    "side_lengths = np.concatenate(result)"
   ]
  },
  {
   "cell_type": "code",
   "execution_count": 6,
   "id": "2476dc54",
   "metadata": {},
   "outputs": [
    {
     "data": {
      "image/png": "[encoded data removed]",
      "text/plain": [
       "<Figure size 432x288 with 1 Axes>"
      ]
     },
     "metadata": {
      "needs_background": "light"
     },
     "output_type": "display_data"
    }
   ],
   "source": [
    "import seaborn as sns\n",
    "sns.histplot(side_lengths, bins=20)\n",
    "plt.savefig('artifacts/k-means/side-lengths.png')"
   ]
  },
  {
   "cell_type": "markdown",
   "id": "b18deb3d",
   "metadata": {},
   "source": [
    "## K Means"
   ]
  },
  {
   "cell_type": "markdown",
   "id": "4e22223b",
   "metadata": {},
   "source": [
    "# PascalVOC"
   ]
  },
  {
   "cell_type": "code",
   "execution_count": 7,
   "id": "4a3b8137",
   "metadata": {},
   "outputs": [],
   "source": [
    "import keras_cv\n",
    "dataset, dataset_info = keras_cv.datasets.pascal_voc.load(\n",
    "    split=\"train\",\n",
    "    bounding_box_format=\"xywh\",\n",
    "    batch_size=9,\n",
    ")"
   ]
  },
  {
   "cell_type": "code",
   "execution_count": 8,
   "id": "557d9863",
   "metadata": {},
   "outputs": [
    {
     "name": "stderr",
     "output_type": "stream",
     "text": [
      "278it [00:03, 77.70it/s]\n"
     ]
    }
   ],
   "source": [
    "import numpy as np\n",
    "import tensorflow as tf\n",
    "from tqdm import tqdm\n",
    "result = []\n",
    "\n",
    "for batch in tqdm(iter(dataset)):\n",
    "    boxes = batch['bounding_boxes']\n",
    "    aspect_ratios = boxes[:, :, 2] / boxes [:, :, 3]\n",
    "    aspect_ratios = aspect_ratios.to_tensor(-1.0)\n",
    "    aspect_ratios = tf.reshape(aspect_ratios, (-1))\n",
    "    aspect_ratios = tf.gather(aspect_ratios, tf.where(aspect_ratios != -1.0))\n",
    "    result.append(aspect_ratios.numpy())\n",
    "result = np.concatenate(result)\n",
    "aspect_ratios = result"
   ]
  },
  {
   "cell_type": "code",
   "execution_count": 9,
   "id": "10b62d14",
   "metadata": {},
   "outputs": [
    {
     "data": {
      "image/png": "[encoded data removed]",
      "text/plain": [
       "<Figure size 432x288 with 1 Axes>"
      ]
     },
     "metadata": {
      "needs_background": "light"
     },
     "output_type": "display_data"
    }
   ],
   "source": [
    "import seaborn as sns\n",
    "import matplotlib.pyplot as plt\n",
    "sns.histplot(aspect_ratios, bins=20)\n",
    "plt.savefig('artifacts/k-means/pascal-voc-aspect-ratios.png')"
   ]
  },
  {
   "cell_type": "code",
   "execution_count": 10,
   "id": "f6a04b8b",
   "metadata": {},
   "outputs": [
    {
     "name": "stderr",
     "output_type": "stream",
     "text": [
      "278it [00:03, 73.51it/s]\n"
     ]
    }
   ],
   "source": [
    "import numpy as np\n",
    "from tqdm import tqdm\n",
    "result = []\n",
    "for batch in tqdm(iter(dataset)):\n",
    "    boxes = batch['bounding_boxes']\n",
    "    area = boxes[:, :, 2] * boxes [:, :, 3]\n",
    "    area = area.to_tensor(-1.0)\n",
    "    area = tf.reshape(area, (-1))\n",
    "    side_lengths = tf.math.sqrt(tf.gather(area, tf.where(area != -1.0)))\n",
    "    result.append(side_lengths.numpy())\n",
    "side_lengths = np.concatenate(result)"
   ]
  },
  {
   "cell_type": "code",
   "execution_count": 11,
   "id": "5c316928",
   "metadata": {},
   "outputs": [
    {
     "data": {
      "image/png": "[encoded data removed]",
      "text/plain": [
       "<Figure size 432x288 with 1 Axes>"
      ]
     },
     "metadata": {
      "needs_background": "light"
     },
     "output_type": "display_data"
    }
   ],
   "source": [
    "import seaborn as sns\n",
    "sns.histplot(side_lengths, bins=20)\n",
    "plt.savefig('artifacts/k-means/pascal-voc-side-lengths.png')"
   ]
  },
  {
   "cell_type": "code",
   "execution_count": null,
   "id": "680ae6e2",
   "metadata": {},
   "outputs": [],
   "source": []
  }
 ],
 "metadata": {
  "kernelspec": {
   "display_name": "Python 3 (ipykernel)",
   "language": "python",
   "name": "python3"
  },
  "language_info": {
   "codemirror_mode": {
    "name": "ipython",
    "version": 3
   },
   "file_extension": ".py",
   "mimetype": "text/x-python",
   "name": "python",
   "nbconvert_exporter": "python",
   "pygments_lexer": "ipython3",
   "version": "3.9.13"
  }
 },
 "nbformat": 4,
 "nbformat_minor": 5
}
