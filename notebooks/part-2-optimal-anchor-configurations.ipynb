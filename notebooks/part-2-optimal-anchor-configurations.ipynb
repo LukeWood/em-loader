{
 "cells": [
  {
   "cell_type": "markdown",
   "id": "7c37f1e5",
   "metadata": {},
   "source": [
    "# Part 2: Finding Optimal Anchor Configurations\n",
    "\n",
    "\n",
    "If you know about the RetinaNet architecture, you probably will be able to deduce that the anchor box generator is not generating anchor boxes with a high enough IoU with the spectogram targets to have the boxes land in the training target.\n",
    "This is apparent, as in part 1 you can see that the oblong boxes slip through the cracks.  In order to remedy this problem, lets find an optimal anchor box configuration.\n",
    "\n",
    "Unforatunetly, spectograms have little in common with typical images.  The size and aspect ratios of signals in a spectogram has nothing to do with the distribution of objects in the real world.  As such, we have to put a great deal of effort into finding optimal anchor configurations.\n",
    "\n",
    "Lets explore our dataset to better understand the issue"
   ]
  },
  {
   "cell_type": "code",
   "execution_count": 2,
   "id": "20264f36",
   "metadata": {},
   "outputs": [],
   "source": [
    "import em_loader"
   ]
  },
  {
   "cell_type": "code",
   "execution_count": null,
   "id": "41e6cf2e",
   "metadata": {},
   "outputs": [],
   "source": [
    "dataset, dataset_info = em_loader.load(\n",
    "    split=\"train\",\n",
    "    bounding_box_format=\"xywh\",\n",
    "    batch_size=9,\n",
    "    version=2,\n",
    ")"
   ]
  },
  {
   "cell_type": "markdown",
   "id": "70606afb",
   "metadata": {},
   "source": [
    "# Data Understanding\n",
    "\n",
    "## Aspect Ratios"
   ]
  },
  {
   "cell_type": "code",
   "execution_count": null,
   "id": "29e87026",
   "metadata": {},
   "outputs": [],
   "source": [
    "import numpy as np\n",
    "from tqdm import tqdm\n",
    "result = []\n",
    "\n",
    "for batch in tqdm(iter(dataset)):\n",
    "    boxes = batch[1]\n",
    "    aspect_ratios = boxes[:, :, 2] / boxes [:, :, 3]\n",
    "    aspect_ratios = aspect_ratios.to_tensor(-1.0)\n",
    "    aspect_ratios = tf.reshape(aspect_ratios, (-1))\n",
    "    aspect_ratios = tf.gather(aspect_ratios, tf.where(aspect_ratios != -1.0))\n",
    "    result.append(aspect_ratios.numpy())\n",
    "result = np.concatenate(result)\n",
    "aspect_ratios = result"
   ]
  },
  {
   "cell_type": "code",
   "execution_count": null,
   "id": "efba8a5e",
   "metadata": {},
   "outputs": [],
   "source": [
    "import numpy as np\n",
    "from tqdm import tqdm\n",
    "result = []\n",
    "for batch in tqdm(iter(train_ds)):\n",
    "    boxes = batch[1]\n",
    "    aspect_ratios = boxes[:, :, 2] / boxes [:, :, 3]\n",
    "    aspect_ratios = aspect_ratios.to_tensor(-1.0)\n",
    "    aspect_ratios = tf.reshape(aspect_ratios, (-1))\n",
    "    aspect_ratios = tf.gather(aspect_ratios, tf.where(aspect_ratios != -1.0))\n",
    "    result.append(aspect_ratios.numpy())\n",
    "result = np.concatenate(result)\n",
    "aspect_ratios = result\n",
    "\n",
    "import seaborn as sns\n",
    "sns.histplot(aspect_ratios, bins=15)"
   ]
  },
  {
   "cell_type": "markdown",
   "id": "63dfb636",
   "metadata": {},
   "source": [
    "## Area"
   ]
  },
  {
   "cell_type": "code",
   "execution_count": null,
   "id": "f6a04b8b",
   "metadata": {},
   "outputs": [],
   "source": [
    "\n",
    "distribution, threshold = np.histogram(aspect_ratios, bins=20)\n",
    "\n",
    "total = distribution.sum()\n",
    "count = 0\n",
    "previous = 0\n",
    "for d, t in zip(distribution, threshold):\n",
    "    print(f'{(d/total) * 100:.2f}% between {previous:.9f}-{t:.9f}')\n",
    "    previous = t\n",
    "\n",
    "import numpy as np\n",
    "from tqdm import tqdm\n",
    "result = []\n",
    "for batch in tqdm(iter(train_ds)):\n",
    "    boxes = batch[1]\n",
    "    area = boxes[:, :, 2] * boxes [:, :, 3]\n",
    "    area = area.to_tensor(-1.0)\n",
    "    area = tf.reshape(area, (-1))\n",
    "    side_lengths = tf.math.sqrt(tf.gather(area, tf.where(area != -1.0)))\n",
    "    result.append(side_lengths.numpy())\n",
    "side_lengths = np.concatenate(result)\n",
    "\n",
    "import seaborn as sns\n",
    "sns.histplot(side_lengths, bins=15)\n",
    "\n",
    "distribution, threshold = np.histogram(side_lengths, bins=40)\n",
    "\n",
    "total = distribution.sum()\n",
    "count = 0\n",
    "previous = 0\n",
    "for d, t in zip(distribution, threshold):\n",
    "    print(f'{(d/total) * 100:.2f}% between {previous:.9f}-{t:.9f}')\n",
    "    previous = t"
   ]
  }
 ],
 "metadata": {
  "kernelspec": {
   "display_name": "Python 3 (ipykernel)",
   "language": "python",
   "name": "python3"
  },
  "language_info": {
   "codemirror_mode": {
    "name": "ipython",
    "version": 3
   },
   "file_extension": ".py",
   "mimetype": "text/x-python",
   "name": "python",
   "nbconvert_exporter": "python",
   "pygments_lexer": "ipython3",
   "version": "3.7.3"
  }
 },
 "nbformat": 4,
 "nbformat_minor": 5
}
